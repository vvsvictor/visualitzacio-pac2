{
 "cells": [
  {
   "cell_type": "code",
   "execution_count": 17,
   "metadata": {},
   "outputs": [],
   "source": [
    "from sklearn.datasets import load_wine\n",
    "from sklearn.preprocessing import StandardScaler\n",
    "from scipy.cluster.hierarchy import dendrogram, linkage\n",
    "import plotly.figure_factory as ff\n",
    "import pandas as pd\n",
    "\n",
    "\n",
    "# Càrrega del dataset wines\n",
    "data = load_wine()\n",
    "df = pd.DataFrame(data.data, columns=data.feature_names)\n",
    "\n",
    "\n",
    "scaler = StandardScaler()\n",
    "df_scaled = scaler.fit_transform(df)\n",
    "\n",
    "# Generació del clustering jeràrquic \n",
    "linked = linkage(df_scaled, method='ward')\n",
    "\n",
    "# Generació del dendograma\n",
    "fig = ff.create_dendrogram(linked, orientation='left')\n",
    "fig.update_layout(width=1000, height=4000,)\n",
    "\n",
    "html_path = \"./dendrograma.html\"\n",
    "fig.write_html(html_path)"
   ]
  }
 ],
 "metadata": {
  "kernelspec": {
   "display_name": "environment_uoc20232pec1",
   "language": "python",
   "name": "python3"
  },
  "language_info": {
   "codemirror_mode": {
    "name": "ipython",
    "version": 3
   },
   "file_extension": ".py",
   "mimetype": "text/x-python",
   "name": "python",
   "nbconvert_exporter": "python",
   "pygments_lexer": "ipython3",
   "version": "3.10.9"
  }
 },
 "nbformat": 4,
 "nbformat_minor": 2
}
